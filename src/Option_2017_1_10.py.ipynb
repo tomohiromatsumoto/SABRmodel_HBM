{
 "cells": [
  {
   "cell_type": "code",
   "execution_count": null,
   "metadata": {
    "collapsed": true
   },
   "outputs": [],
   "source": [
    "import math\n",
    "\n",
    "def binomial_tree(u, d, S0, n):\n",
    "    result = []\n",
    "    for element in range(1, n + 2):\n",
    "        temparray = []\n",
    "        for number in range(element - 1, -1, -1):\n",
    "            u_power = number\n",
    "            d_power = element - 1 - number\n",
    "            temparray.append(u ** u_power * d ** d_power * S0)\n",
    "        result.append(temparray)\n",
    "    return result\n",
    "\n",
    "def ncr(n, r):\n",
    "    return math.factorial(n)/math.factorial(r)/math.factorial(n-r)\n",
    "\n",
    "#def price_tree(btree, n, strike):\n",
    "#    result = []\n",
    "\n",
    "\n",
    "voltly = 0.3\n",
    "T = 0.25\n",
    "n = 15\n",
    "u = math.exp(voltly*math.sqrt(T/n))\n",
    "d = 1.0/u\n",
    "S0 = 100\n",
    "r = 0.02\n",
    "c = 0.01\n",
    "Rn = math.exp(r*T/n)\n",
    "strike = 110\n",
    "\n",
    "p = (math.exp((r-c)*T/n) - d) / (u - d)\n",
    "\n",
    "q = 1 - p\n",
    "\n",
    "binomial_arr = binomial_tree(u, d, S0, n)\n",
    "\n",
    "l = [max(binomial_arr[n][i] - strike, 0) for i in range(0, n+1)]\n",
    "\n",
    "coeff = [ncr(n, number) for number in range(0, n+1)]\n",
    "\n",
    "price = 0\n",
    "for number in range(0, n+1):\n",
    "    price = price + coeff[number]*l[number]*p**(n-number)*q**(number)\n",
    "\n",
    "price = price/(Rn**n)\n",
    "\n",
    "\n",
    "print(\"price of call option\", price)\n",
    "\n",
    "\n"
   ]
  }
 ],
 "metadata": {
  "kernelspec": {
   "display_name": "Python [default]",
   "language": "python",
   "name": "python3"
  },
  "language_info": {
   "codemirror_mode": {
    "name": "ipython",
    "version": 3
   },
   "file_extension": ".py",
   "mimetype": "text/x-python",
   "name": "python",
   "nbconvert_exporter": "python",
   "pygments_lexer": "ipython3",
   "version": "3.5.2"
  }
 },
 "nbformat": 4,
 "nbformat_minor": 1
}
