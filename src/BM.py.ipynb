{
 "cells": [
  {
   "cell_type": "code",
   "execution_count": null,
   "metadata": {
    "collapsed": true
   },
   "outputs": [],
   "source": [
    "import numpy as np\n",
    "import matplotlib.pyplot as plt\n",
    "\n",
    "#株価の確率微分方程式に従うサンプルパスを生成\n",
    "#dS/S = r * dt + vol * dW_t\n",
    "def generate_path(S0, T, r, vol, N, M):\n",
    "    dt = T/M\n",
    "    w = np.cumsum(np.reshape(np.random.standard_normal(N*M), (N,M)), 1) * (dt**0.5)\n",
    "    t = np.cumsum(np.ones((N,M)), 1)*dt   \n",
    "    return S0 * np.exp((r-0.5*vol**2)*t + vol*w)\n",
    "\n",
    "if __name__ == \"__main__\":\n",
    "    #株価・満期・瞬間金利・ボラティリティ\n",
    "    S0  = 100.0\n",
    "    T   = 3.0\n",
    "    R   = 0.01\n",
    "    VOL = 0.2\n",
    "    #パス数・時間刻み数\n",
    "    N = 50\n",
    "    M = 200\n",
    "    #パスの生成＆描画\n",
    "    x = generate_path(S0, T, R, VOL, N, M)\n",
    "    plt.plot(x.T)\n",
    "    plt.show()"
   ]
  }
 ],
 "metadata": {
  "anaconda-cloud": {},
  "kernelspec": {
   "display_name": "Python [conda root]",
   "language": "python",
   "name": "conda-root-py"
  },
  "language_info": {
   "codemirror_mode": {
    "name": "ipython",
    "version": 3
   },
   "file_extension": ".py",
   "mimetype": "text/x-python",
   "name": "python",
   "nbconvert_exporter": "python",
   "pygments_lexer": "ipython3",
   "version": "3.5.2"
  }
 },
 "nbformat": 4,
 "nbformat_minor": 1
}
