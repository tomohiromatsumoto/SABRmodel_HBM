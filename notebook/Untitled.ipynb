{
 "cells": [
  {
   "cell_type": "code",
   "execution_count": 1,
   "metadata": {
    "collapsed": true
   },
   "outputs": [],
   "source": [
    "import numpy as np"
   ]
  },
  {
   "cell_type": "code",
   "execution_count": 2,
   "metadata": {
    "collapsed": false
   },
   "outputs": [
    {
     "name": "stdout",
     "output_type": "stream",
     "text": [
      "うんこ\n"
     ]
    }
   ],
   "source": [
    "print(\"うんこ\")"
   ]
  },
  {
   "cell_type": "code",
   "execution_count": 3,
   "metadata": {
    "collapsed": false
   },
   "outputs": [
    {
     "name": "stdout",
     "output_type": "stream",
     "text": [
      "Hello Mr Akahori\n"
     ]
    }
   ],
   "source": [
    "import numpy as np\n",
    "print(\"Hello Mr Akahori\")"
   ]
  },
  {
   "cell_type": "code",
   "execution_count": 16,
   "metadata": {
    "collapsed": false
   },
   "outputs": [
    {
     "ename": "SyntaxError",
     "evalue": "invalid syntax (<ipython-input-16-3dd2f59daabb>, line 5)",
     "output_type": "error",
     "traceback": [
      "\u001b[0;36m  File \u001b[0;32m\"<ipython-input-16-3dd2f59daabb>\"\u001b[0;36m, line \u001b[0;32m5\u001b[0m\n\u001b[0;31m    w = np.cumsum(np.reshape(np.random.standard_normal(N:M),(N,M)),1)*(dt**0.5)\u001b[0m\n\u001b[0m                                                        ^\u001b[0m\n\u001b[0;31mSyntaxError\u001b[0m\u001b[0;31m:\u001b[0m invalid syntax\n"
     ]
    }
   ],
   "source": [
    "import numpy as np\n",
    "import matplotlib.pyplot as plt\n",
    "def generate_path(S0,t,r,vol,N,M):\n",
    "    dt = T/M\n",
    "    w = np.cumsum(np.reshape(np.random.standard_normal(N:M),(N,M)),1)*(dt**0.5)\n",
    "    t = np.cumsum(np.ones((N,M)),1)*dt\n",
    "    return S0*np.exp((r-0.5*vol**2)*t + vol*w)\n",
    "if __name__ == \"__main__\":\n",
    "    S0 = 100.0\n",
    "    T = 3.0\n",
    "    R = 0.01\n",
    "    VOL = 0.2\n",
    "    N = 50\n",
    "    M = 200\n",
    "    x = generate_path(S0, T, R, VOL, N, M)\n",
    "    plt.plot(x.T)\n",
    "    plt.show()\n",
    "    "
   ]
  }
 ],
 "metadata": {
  "anaconda-cloud": {},
  "kernelspec": {
   "display_name": "Python [default]",
   "language": "python",
   "name": "python3"
  },
  "language_info": {
   "codemirror_mode": {
    "name": "ipython",
    "version": 3
   },
   "file_extension": ".py",
   "mimetype": "text/x-python",
   "name": "python",
   "nbconvert_exporter": "python",
   "pygments_lexer": "ipython3",
   "version": "3.5.2"
  }
 },
 "nbformat": 4,
 "nbformat_minor": 1
}
