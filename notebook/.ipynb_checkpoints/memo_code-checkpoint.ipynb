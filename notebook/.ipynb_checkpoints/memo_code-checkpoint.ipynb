{
 "cells": [
  {
   "cell_type": "code",
   "execution_count": null,
   "metadata": {
    "collapsed": true
   },
   "outputs": [],
   "source": [
    "import numpy\n",
    "import pylab\n",
    "import math\n",
    "import time \n",
    "\n",
    "X = 0 # 的に当たった回数\n",
    "N = 500 # 試行回数\n",
    "\n",
    "# N回の試行を開始\n",
    "for i in range(1, N):\n",
    "    score_x = numpy.random.rand()\n",
    "    score_y = numpy.random.rand()\n",
    "    if score_x * score_x + score_y * score_y < 1:\n",
    "        X = X + 1\n",
    "# piの近似値をここで計算する\n",
    "    pi = 4*float(X)/float(i)\n",
    "    plot_x = i\n",
    "    plot_y = pi\n",
    "    pylab.plot(plot_x,plot_y,\"ro\")\n",
    "\n",
    "# 結果を表示 \n",
    "pylab.grid(True)\n",
    "pylab.xlabel('X')\n",
    "pylab.ylabel('Y')\n",
    "pylab.show()\n",
    "\n",
    "print(X)\n",
    "print(500 - X)"
   ]
  }
 ],
 "metadata": {
  "anaconda-cloud": {},
  "kernelspec": {
   "display_name": "Python [conda root]",
   "language": "python",
   "name": "conda-root-py"
  },
  "language_info": {
   "codemirror_mode": {
    "name": "ipython",
    "version": 3
   },
   "file_extension": ".py",
   "mimetype": "text/x-python",
   "name": "python",
   "nbconvert_exporter": "python",
   "pygments_lexer": "ipython3",
   "version": "3.5.2"
  }
 },
 "nbformat": 4,
 "nbformat_minor": 1
}
