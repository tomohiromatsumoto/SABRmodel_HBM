{
 "cells": [
  {
   "cell_type": "code",
   "execution_count": null,
   "metadata": {
    "collapsed": true
   },
   "outputs": [],
   "source": []
  },
  {
   "cell_type": "code",
   "execution_count": 52,
   "metadata": {
    "collapsed": false
   },
   "outputs": [
    {
     "name": "stdout",
     "output_type": "stream",
     "text": [
      "22\n"
     ]
    }
   ],
   "source": [
    "def f(n):\n",
    "    return 3 * n - 2\n",
    "def sigma(func, frm, to):\n",
    "    result = 0; #答えの受け皿\n",
    "    for i in range(frm, to+1):\n",
    "        result += func(i) \n",
    "        #ここで関数を呼び出す。ちなみにここではi = x\n",
    "    print(result)\n",
    "sigma(f, 1, 4)"
   ]
  },
  {
   "cell_type": "code",
   "execution_count": 1,
   "metadata": {
    "collapsed": false
   },
   "outputs": [
    {
     "name": "stdout",
     "output_type": "stream",
     "text": [
      "9\n"
     ]
    }
   ],
   "source": [
    "def f(n):\n",
    "    return 3 * n \n",
    "def sigma(func, frm, to):\n",
    "    result = 0; #答えの受け皿\n",
    "    for i in range(frm, to+1):\n",
    "        result += func(i) \n",
    "        #ここで関数を呼び出す。ちなみにここではi = x\n",
    "    print(result)\n",
    "sigma(f, 1, 2)"
   ]
  },
  {
   "cell_type": "code",
   "execution_count": 2,
   "metadata": {
    "collapsed": false
   },
   "outputs": [
    {
     "name": "stdout",
     "output_type": "stream",
     "text": [
      "55\n"
     ]
    }
   ],
   "source": [
    "def sigma2(frm, to):\n",
    "    result = 0;\n",
    "    for i in range(frm, to+1):\n",
    "        result += i\n",
    "    print(result)\n",
    "\n",
    "sigma2(1,10) #55"
   ]
  },
  {
   "cell_type": "code",
   "execution_count": 30,
   "metadata": {
    "collapsed": true
   },
   "outputs": [],
   "source": [
    "#株価・満期・瞬間金利・ボラティリティ\n",
    "S0  = 100.0\n",
    "T   = 3.0\n",
    "R   = 0.01\n",
    "VOL = 0.2\n",
    "#パス数・時間刻み数\n",
    "N = 50\n",
    "M = 200\n",
    "num_experiment = 10\n",
    "def generate_path(S0, T, r, vol, N, M):\n",
    "    dt = T/M\n",
    "    w = np.cumsum(np.reshape(np.random.standard_normal(N*M), (N,M)), 1) * (dt**0.5)\n",
    "    t = np.cumsum(np.ones((N,M)), 1)*dt\n",
    "    return S0 * np.exp((r-0.5*vol**2)*t + vol*w)\n",
    "\n",
    "\n"
   ]
  },
  {
   "cell_type": "code",
   "execution_count": 31,
   "metadata": {
    "collapsed": true
   },
   "outputs": [],
   "source": [
    " x = generate_path(S0, T, R, VOL, N, M)"
   ]
  },
  {
   "cell_type": "code",
   "execution_count": 34,
   "metadata": {
    "collapsed": false
   },
   "outputs": [
    {
     "data": {
      "text/plain": [
       "50"
      ]
     },
     "execution_count": 34,
     "metadata": {},
     "output_type": "execute_result"
    }
   ],
   "source": [
    "len(x[:,200-1])"
   ]
  },
  {
   "cell_type": "code",
   "execution_count": 38,
   "metadata": {
    "collapsed": false
   },
   "outputs": [],
   "source": [
    "import sys\n",
    "sys.path.append(\"../records\") \n",
    "sys.path.append(\"../src\") "
   ]
  },
  {
   "cell_type": "code",
   "execution_count": 39,
   "metadata": {
    "collapsed": true
   },
   "outputs": [],
   "source": [
    "import util"
   ]
  },
  {
   "cell_type": "code",
   "execution_count": 50,
   "metadata": {
    "collapsed": false
   },
   "outputs": [],
   "source": [
    "recordpath = '../records/' \n",
    "filename =  'unko' + util.print_time() + '.npy'\n",
    "filename  = recordpath + filename\n",
    "xx = np.random.normal(0,1,10) \n",
    "np.save(filename,xx) \n"
   ]
  },
  {
   "cell_type": "code",
   "execution_count": 51,
   "metadata": {
    "collapsed": false
   },
   "outputs": [],
   "source": [
    "yy = np.load(filename)"
   ]
  },
  {
   "cell_type": "code",
   "execution_count": 52,
   "metadata": {
    "collapsed": false
   },
   "outputs": [
    {
     "data": {
      "text/plain": [
       "array([-1.64917557, -0.77337904,  0.86749635,  1.53833216,  0.38289589,\n",
       "        0.79548005, -0.52286444, -1.67626559, -0.79872961, -0.25078909])"
      ]
     },
     "execution_count": 52,
     "metadata": {},
     "output_type": "execute_result"
    }
   ],
   "source": [
    "yy "
   ]
  },
  {
   "cell_type": "code",
   "execution_count": 53,
   "metadata": {
    "collapsed": false
   },
   "outputs": [
    {
     "data": {
      "text/plain": [
       "array([-1.64917557, -0.77337904,  0.86749635,  1.53833216,  0.38289589,\n",
       "        0.79548005, -0.52286444, -1.67626559, -0.79872961, -0.25078909])"
      ]
     },
     "execution_count": 53,
     "metadata": {},
     "output_type": "execute_result"
    }
   ],
   "source": [
    "xx"
   ]
  },
  {
   "cell_type": "code",
   "execution_count": 54,
   "metadata": {
    "collapsed": false
   },
   "outputs": [
    {
     "name": "stdout",
     "output_type": "stream",
     "text": [
      "OU_process_terminal_val_2017_02_10_16_18_43.npy\r\n",
      "unko2017_02_10_16_11_37.npy\r\n"
     ]
    }
   ],
   "source": [
    "ls ../records/"
   ]
  },
  {
   "cell_type": "code",
   "execution_count": 56,
   "metadata": {
    "collapsed": false
   },
   "outputs": [],
   "source": [
    "OU_result = np.load(recordpath + 'OU_process_terminal_val_2017_02_10_16_18_43.npy')"
   ]
  },
  {
   "cell_type": "code",
   "execution_count": 61,
   "metadata": {
    "collapsed": false
   },
   "outputs": [
    {
     "data": {
      "text/plain": [
       "(array([  3.,   9.,   8.,   7.,  10.,   2.,   5.,   2.,   1.,   3.]),\n",
       " array([  36.93602175,   51.63493618,   66.33385061,   81.03276504,\n",
       "          95.73167947,  110.4305939 ,  125.12950832,  139.82842275,\n",
       "         154.52733718,  169.22625161,  183.92516604]),\n",
       " <a list of 10 Patch objects>)"
      ]
     },
     "execution_count": 61,
     "metadata": {},
     "output_type": "execute_result"
    },
    {
     "data": {
      "image/png": "[encoded data removed]",
      "text/plain": [
       "<matplotlib.figure.Figure at 0x117b6deb8>"
      ]
     },
     "metadata": {},
     "output_type": "display_data"
    }
   ],
   "source": [
    "%matplotlib inline\n",
    "plt.hist(OU_result)"
   ]
  },
  {
   "cell_type": "code",
   "execution_count": 64,
   "metadata": {
    "collapsed": false
   },
   "outputs": [
    {
     "data": {
      "text/plain": [
       "(array([  3.,   9.,   8.,   7.,  10.,   2.,   5.,   2.,   1.,   3.]),\n",
       " array([  36.93602175,   51.63493618,   66.33385061,   81.03276504,\n",
       "          95.73167947,  110.4305939 ,  125.12950832,  139.82842275,\n",
       "         154.52733718,  169.22625161,  183.92516604]),\n",
       " <a list of 10 Patch objects>)"
      ]
     },
     "execution_count": 64,
     "metadata": {},
     "output_type": "execute_result"
    },
    {
     "data": {
      "image/png": "[encoded data removed]",
      "text/plain": [
       "<matplotlib.figure.Figure at 0x117c24748>"
      ]
     },
     "metadata": {},
     "output_type": "display_data"
    }
   ],
   "source": [
    "plt.hist(OU_result)"
   ]
  },
  {
   "cell_type": "code",
   "execution_count": 62,
   "metadata": {
    "collapsed": false
   },
   "outputs": [
    {
     "data": {
      "text/plain": [
       "array([-1.64917557, -0.77337904,  0.86749635,  1.53833216,  0.38289589,\n",
       "        0.79548005, -0.52286444, -1.67626559, -0.79872961, -0.25078909])"
      ]
     },
     "execution_count": 62,
     "metadata": {},
     "output_type": "execute_result"
    }
   ],
   "source": [
    "yy"
   ]
  },
  {
   "cell_type": "code",
   "execution_count": 63,
   "metadata": {
    "collapsed": false
   },
   "outputs": [
    {
     "data": {
      "text/plain": [
       "array([-1.64917557, -0.77337904,  0.86749635,  1.53833216,  0.38289589,\n",
       "        0.79548005, -0.52286444, -1.67626559, -0.79872961, -0.25078909])"
      ]
     },
     "execution_count": 63,
     "metadata": {},
     "output_type": "execute_result"
    }
   ],
   "source": [
    "xx"
   ]
  },
  {
   "cell_type": "code",
   "execution_count": 65,
   "metadata": {
    "collapsed": false
   },
   "outputs": [
    {
     "data": {
      "text/plain": [
       "50"
      ]
     },
     "execution_count": 65,
     "metadata": {},
     "output_type": "execute_result"
    }
   ],
   "source": [
    "len(x[:,100-1])"
   ]
  },
  {
   "cell_type": "code",
   "execution_count": 2,
   "metadata": {
    "collapsed": false
   },
   "outputs": [
    {
     "ename": "ImportError",
     "evalue": "No module named 'util'",
     "output_type": "error",
     "traceback": [
      "\u001b[0;31m---------------------------------------------------------------------------\u001b[0m",
      "\u001b[0;31mImportError\u001b[0m                               Traceback (most recent call last)",
      "\u001b[0;32m<ipython-input-2-fa9f346fca2f>\u001b[0m in \u001b[0;36m<module>\u001b[0;34m()\u001b[0m\n\u001b[1;32m      3\u001b[0m \u001b[0;31m#sys.path.append(\"../records\")\u001b[0m\u001b[0;34m\u001b[0m\u001b[0;34m\u001b[0m\u001b[0m\n\u001b[1;32m      4\u001b[0m \u001b[0;31m#recordpath = '../records/'\u001b[0m\u001b[0;34m\u001b[0m\u001b[0;34m\u001b[0m\u001b[0m\n\u001b[0;32m----> 5\u001b[0;31m \u001b[0;32mimport\u001b[0m \u001b[0mutil\u001b[0m\u001b[0;34m\u001b[0m\u001b[0m\n\u001b[0m\u001b[1;32m      6\u001b[0m \u001b[0;31m#'''\u001b[0m\u001b[0;34m\u001b[0m\u001b[0;34m\u001b[0m\u001b[0m\n\u001b[1;32m      7\u001b[0m \u001b[0;31m#株価の確率微分方程式に従うサンプルパスを生成\u001b[0m\u001b[0;34m\u001b[0m\u001b[0;34m\u001b[0m\u001b[0m\n",
      "\u001b[0;31mImportError\u001b[0m: No module named 'util'"
     ]
    }
   ],
   "source": [
    "import numpy as np\n",
    "import sys\n",
    "#sys.path.append(\"../records\")\n",
    "#recordpath = '../records/'\n",
    "import util\n",
    "#'''\n",
    "#株価の確率微分方程式に従うサンプルパスを生成\n",
    "#dS/S = r * dt + vol * dW_t\n",
    "\n",
    "#input\n",
    "  #  S0  :\n",
    "    #T   :\n",
    "    #r   :\n",
    "    #vol :\n",
    "    #N   :\n",
    "    #M   :\n",
    "#output\n",
    "\n",
    "#'''\n",
    "\n",
    "def generate_path(S0, T, r, vol, N, M):\n",
    "    dt = T/M\n",
    "    w = np.cumsum(np.reshape(np.random.standard_normal(N*M), (N,M)), 1) * (dt**0.5)\n",
    "    t = np.cumsum(np.ones((N,M)), 1)*dt\n",
    "    return S0 * np.exp((r-0.5*vol**2)*t + vol*w)\n",
    "\n",
    "if __name__ == \"__main__\":\n",
    "    #株価・満期・瞬間金利・ボラティリティ\n",
    "    S0  = 100.0\n",
    "    T   = 3.0\n",
    "    R   = 0.01\n",
    "    VOL = 0.2\n",
    "    #軌道数・時間刻み数\n",
    "    N = 200\n",
    "    M = 200\n",
    "    num_experiment = 10\n",
    "    #軌道の生成＆描画\n",
    "    x = generate_path(S0, T, R, VOL, N, M)\n",
    "    xlast = x[:,200-1]# Terminal X\n",
    "\n",
    "#データを保存するパス名\n",
    "    #filename = 'OU_process_terminal_val_' +  util.print_time() + '.npy'\n",
    "    #filename  = recordpath +filename \n",
    "    #plot  も作って適切な保存場所にセーブせよ\n",
    "    #np.save(filename,xlast)\n"
   ]
  },
  {
   "cell_type": "code",
   "execution_count": 68,
   "metadata": {
    "collapsed": false
   },
   "outputs": [
    {
     "name": "stdout",
     "output_type": "stream",
     "text": [
      "[  84.98517687  120.93135792   59.93896755  106.21613013   69.49311153\n",
      "  143.16129429   56.6952502    70.78008178   59.15565996   92.96874299\n",
      "  138.45857567  174.9126581   105.49441823   76.614245    106.91069973\n",
      "   74.61765987   89.73881035  117.51211017   67.97574902   98.36753642\n",
      "   40.35249665   86.05548696  173.71114704  108.92140853   62.16371657\n",
      "  110.52872574   36.97085997   70.65549162  101.54752889   68.75840081\n",
      "  153.94980165  220.17664726  115.91653273  104.00312747  126.19503429\n",
      "   81.26317321  116.04543377  108.03793673  119.84109332   72.97494309\n",
      "  147.36039451  120.70807715  129.90243198   69.81784351   96.77368228\n",
      "   52.81458993   88.8429226   115.85581185  119.83415029   93.90056619\n",
      "  107.08274065  115.96836111  125.91080643  185.11978251  145.61568314\n",
      "  109.09690644  114.02344663   37.31962922  152.2624551    79.86198943\n",
      "   77.61530723   91.97612338   66.61840118   95.16589024  177.29298606\n",
      "  100.39297979  121.88633562   88.02972167  114.0575693    50.86280325\n",
      "  101.74544233   89.8613811    97.57293403  175.14004284   79.5755891\n",
      "   95.99012011  131.94190419  115.43935149  129.63323266  102.57548093\n",
      "  114.31900207  137.04263473  100.37576464   76.98094203   79.7308693\n",
      "  126.55839764  102.00278724   99.26012502  117.14015115   61.14396679\n",
      "  119.15025807  131.78891399  167.13972416   85.7410699    90.31243333\n",
      "   95.88600592   35.52199549   62.79913445   71.56416347  135.69844299\n",
      "  101.27056618   47.06392315  110.82238352   97.54989087   64.53447593\n",
      "   74.46025888  109.19361101   61.9259219   148.92680051  127.23201147\n",
      "  110.05348478   91.17580022   51.47742849   64.85375248   56.94319154\n",
      "   96.4338143   102.43787713   74.04764643  104.81524143   76.91294217\n",
      "   98.71357257  127.11486166  104.16801789   59.61230155   76.2517149\n",
      "   86.84087799   62.95320802  168.13923982  159.37188813  124.57145367\n",
      "   95.7829913    88.70400939  101.52476763  140.69592926   97.36538154\n",
      "  153.97672178   73.9226285    96.47078613  129.27569453   79.51120409\n",
      "   97.55908899   96.14389535   59.55261189   88.69665866   87.01823048\n",
      "   72.08374843  139.30416011  108.92304223  103.74530258  164.7410459\n",
      "   73.08169381   91.4974787   109.44659621   91.24608303   86.77976354\n",
      "  128.69890333  124.43160915   66.46381442  136.49925469   89.55252639\n",
      "  110.59566366   98.97974262   82.68006132   92.66514435  104.04405876\n",
      "   62.51746104   83.68391655   90.31870025  102.95849385   75.21133124\n",
      "  165.62897444   73.39832848   69.26354764   94.35442039  113.35924561\n",
      "  107.89866702   83.63573381   80.92127057  200.797919     70.23978478\n",
      "   61.70275219   91.07424602   68.16580558  114.76515303  102.10944956\n",
      "   81.45008495  136.01866456   59.39813862  163.4637982   142.26801985\n",
      "   55.59398907   34.83241382   80.42707955  119.21923928  136.49458022\n",
      "  173.13680299   52.89215928  158.53912547  109.08816547  172.60989954]\n"
     ]
    }
   ],
   "source": [
    " print(xlast)"
   ]
  },
  {
   "cell_type": "code",
   "execution_count": 69,
   "metadata": {
    "collapsed": false
   },
   "outputs": [
    {
     "data": {
      "text/plain": [
       "(array([ 10.,  29.,  40.,  49.,  34.,  17.,   8.,  10.,   2.,   1.]),\n",
       " array([  34.83241382,   53.36683717,   71.90126051,   90.43568385,\n",
       "         108.9701072 ,  127.50453054,  146.03895389,  164.57337723,\n",
       "         183.10780057,  201.64222392,  220.17664726]),\n",
       " <a list of 10 Patch objects>)"
      ]
     },
     "execution_count": 69,
     "metadata": {},
     "output_type": "execute_result"
    },
    {
     "data": {
      "image/png": "[encoded data removed]",
      "text/plain": [
       "<matplotlib.figure.Figure at 0x117c82358>"
      ]
     },
     "metadata": {},
     "output_type": "display_data"
    }
   ],
   "source": [
    "plt.hist(xlast)"
   ]
  },
  {
   "cell_type": "code",
   "execution_count": null,
   "metadata": {
    "collapsed": true
   },
   "outputs": [],
   "source": []
  }
 ],
 "metadata": {
  "anaconda-cloud": {},
  "kernelspec": {
   "display_name": "Python [conda root]",
   "language": "python",
   "name": "conda-root-py"
  },
  "language_info": {
   "codemirror_mode": {
    "name": "ipython",
    "version": 3
   },
   "file_extension": ".py",
   "mimetype": "text/x-python",
   "name": "python",
   "nbconvert_exporter": "python",
   "pygments_lexer": "ipython3",
   "version": "3.5.2"
  }
 },
 "nbformat": 4,
 "nbformat_minor": 1
}
