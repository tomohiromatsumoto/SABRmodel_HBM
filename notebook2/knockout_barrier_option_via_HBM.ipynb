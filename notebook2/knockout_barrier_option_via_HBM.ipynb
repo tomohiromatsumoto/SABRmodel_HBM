{
 "cells": [
  {
   "cell_type": "code",
   "execution_count": 5,
   "metadata": {
    "collapsed": true
   },
   "outputs": [],
   "source": [
    "import numpy as np\n",
    "import matplotlib.pyplot as plt\n",
    "import pandas as pd\n",
    "\n",
    "\n",
    "def HyperbolicBM(N= 10,  t_end = 10,  y_init = 10, t_init = 0,  q_init = 10):\n",
    "\n",
    "    #初期値\n",
    "    y[0] = y_init\n",
    "    x[0] = x_init\n",
    "    t[0] = t_init\n",
    "\n",
    "    #ここでオイラー丸山\n",
    "    dt = t_end/N\n",
    "\n",
    "    #BMを生成\n",
    "    dW1   = lambda dt: np.random.normal (loc = 0.0, scale = np.sqrt(dt))\n",
    "    dW2   = lambda dt: np.random.normal (loc = 0.0, scale = np.sqrt(dt))\n",
    "\n",
    "    #HyperbolicBM　\n",
    "    y[i] = y[i-1] +y[i-1] *  (dW1 * dt)\n",
    "    x[i] = x[i-1] +y[i-1] *  (dW2 * dt)\n",
    "    return x[N]"
   ]
  },
  {
   "cell_type": "code",
   "execution_count": 7,
   "metadata": {
    "collapsed": false
   },
   "outputs": [
    {
     "ename": "NameError",
     "evalue": "name 'x' is not defined",
     "output_type": "error",
     "traceback": [
      "\u001b[0;31m---------------------------------------------------------------------------\u001b[0m",
      "\u001b[0;31mNameError\u001b[0m                                 Traceback (most recent call last)",
      "\u001b[0;32m<ipython-input-7-78996ecd3f1c>\u001b[0m in \u001b[0;36m<module>\u001b[0;34m()\u001b[0m\n\u001b[0;32m----> 1\u001b[0;31m \u001b[0mprint\u001b[0m \u001b[0;34m(\u001b[0m\u001b[0mx\u001b[0m\u001b[0;34m)\u001b[0m\u001b[0;34m\u001b[0m\u001b[0m\n\u001b[0m",
      "\u001b[0;31mNameError\u001b[0m: name 'x' is not defined"
     ]
    }
   ],
   "source": [
    "print (x)"
   ]
  },
  {
   "cell_type": "code",
   "execution_count": null,
   "metadata": {
    "collapsed": true
   },
   "outputs": [],
   "source": []
  }
 ],
 "metadata": {
  "anaconda-cloud": {},
  "kernelspec": {
   "display_name": "Python [conda root]",
   "language": "python",
   "name": "conda-root-py"
  },
  "language_info": {
   "codemirror_mode": {
    "name": "ipython",
    "version": 3
   },
   "file_extension": ".py",
   "mimetype": "text/x-python",
   "name": "python",
   "nbconvert_exporter": "python",
   "pygments_lexer": "ipython3",
   "version": "3.5.2"
  }
 },
 "nbformat": 4,
 "nbformat_minor": 1
}
