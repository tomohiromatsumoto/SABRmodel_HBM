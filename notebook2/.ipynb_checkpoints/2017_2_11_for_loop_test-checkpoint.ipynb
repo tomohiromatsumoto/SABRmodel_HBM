{
 "cells": [
  {
   "cell_type": "code",
   "execution_count": 6,
   "metadata": {
    "collapsed": false
   },
   "outputs": [
    {
     "name": "stdout",
     "output_type": "stream",
     "text": [
      "10\n",
      "510\n",
      "1010\n",
      "1510\n",
      "2010\n",
      "2510\n",
      "3010\n",
      "3510\n",
      "4010\n",
      "4510\n"
     ]
    }
   ],
   "source": [
    "for N in range(10,5010,500):\n",
    "    print(N)"
   ]
  },
  {
   "cell_type": "code",
   "execution_count": 8,
   "metadata": {
    "collapsed": false
   },
   "outputs": [
    {
     "name": "stdout",
     "output_type": "stream",
     "text": [
      "0.1\n",
      "0.00196078431372549\n",
      "0.0009900990099009901\n",
      "0.0006622516556291391\n",
      "0.0004975124378109452\n",
      "0.00039840637450199205\n",
      "0.0003322259136212625\n",
      "0.0002849002849002849\n",
      "0.00024937655860349125\n",
      "0.00022172949002217295\n"
     ]
    }
   ],
   "source": [
    "t_end = 1\n",
    "for N in range(10,5010,500):\n",
    "    dt = t_end/N\n",
    "    print(dt)"
   ]
  },
  {
   "cell_type": "code",
   "execution_count": 10,
   "metadata": {
    "collapsed": false
   },
   "outputs": [
    {
     "name": "stdout",
     "output_type": "stream",
     "text": [
      "0\n",
      "1\n",
      "2\n",
      "3\n",
      "4\n",
      "5\n",
      "6\n",
      "7\n",
      "8\n",
      "9\n"
     ]
    }
   ],
   "source": [
    "for i in range(10):\n",
    "    print(i)"
   ]
  },
  {
   "cell_type": "code",
   "execution_count": 60,
   "metadata": {
    "collapsed": false
   },
   "outputs": [
    {
     "name": "stdout",
     "output_type": "stream",
     "text": [
      "2989.50777959\n",
      "29.8950777959\n"
     ]
    }
   ],
   "source": [
    " print(sum)\n",
    "    \n",
    "print(sum/num_mc)"
   ]
  },
  {
   "cell_type": "code",
   "execution_count": null,
   "metadata": {
    "collapsed": true
   },
   "outputs": [],
   "source": []
  }
 ],
 "metadata": {
  "anaconda-cloud": {},
  "kernelspec": {
   "display_name": "Python [conda root]",
   "language": "python",
   "name": "conda-root-py"
  },
  "language_info": {
   "codemirror_mode": {
    "name": "ipython",
    "version": 3
   },
   "file_extension": ".py",
   "mimetype": "text/x-python",
   "name": "python",
   "nbconvert_exporter": "python",
   "pygments_lexer": "ipython3",
   "version": "3.5.2"
  }
 },
 "nbformat": 4,
 "nbformat_minor": 1
}
