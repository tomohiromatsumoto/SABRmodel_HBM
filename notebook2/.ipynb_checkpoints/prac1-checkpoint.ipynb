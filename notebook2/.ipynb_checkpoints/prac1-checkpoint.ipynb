{
 "cells": [
  {
   "cell_type": "code",
   "execution_count": null,
   "metadata": {
    "collapsed": true
   },
   "outputs": [],
   "source": [
    "import numpy as np\n",
    "import matplotlib.pyplot as plt\n",
    "import math\n",
    "import time \n",
    "\n",
    "\n",
    "num_sims = 3 #試行回数\n",
    "num_mc = 2\n",
    "N        = 10 #分割回数\n",
    "\n",
    "y_init = 0 \n",
    "t_init = 0\n",
    "t_end  = 10\n",
    "\n",
    "c_theta = 0.7\n",
    "c_mu    = 2\n",
    "c_sigma = 0.5\n",
    "\n",
    "def mu(y, t): \n",
    "    return c_theta * (c_mu - y)\n",
    "        \n",
    "def sigma(y, t): \n",
    "    return c_sigma\n",
    "\n",
    "dt   = float(t_end - t_init) / N\n",
    "dW   = lambda dt: np.random.normal(loc = 0.0, scale = np.sqrt(dt))\n",
    "\n",
    "t    = np.arange(t_init, t_end, dt)\n",
    "y    = np.zeros(N)\n",
    "y[0] = y_init\n",
    "\n",
    "\n",
    "for j in range(num_mc):\n",
    "   \n",
    " for i in range(num_sims):\n",
    "    for i in range(1, N):\n",
    "        a = mu(y[i-1], (i-1) * dt)\n",
    "        b = sigma(y[i-1], (i-1) * dt)\n",
    "        y[i] = y[i-1] + a * dt + b * dW(dt)\n",
    "        \n",
    "\n",
    "    plt.plot(t, y)\n",
    "\n",
    "plt.show()\n",
    "\n",
    "\n",
    "print(\"price\",y[N-1])"
   ]
  }
 ],
 "metadata": {
  "anaconda-cloud": {},
  "kernelspec": {
   "display_name": "Python [conda root]",
   "language": "python",
   "name": "conda-root-py"
  },
  "language_info": {
   "codemirror_mode": {
    "name": "ipython",
    "version": 3
   },
   "file_extension": ".py",
   "mimetype": "text/x-python",
   "name": "python",
   "nbconvert_exporter": "python",
   "pygments_lexer": "ipython3",
   "version": "3.5.2"
  }
 },
 "nbformat": 4,
 "nbformat_minor": 1
}
