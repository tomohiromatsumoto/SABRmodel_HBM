{
 "cells": [
  {
   "cell_type": "code",
   "execution_count": 2,
   "metadata": {
    "collapsed": false
   },
   "outputs": [
    {
     "data": {
      "image/png": "[encoded data removed]",
      "text/plain": [
       "<matplotlib.figure.Figure at 0x105f7c208>"
      ]
     },
     "metadata": {},
     "output_type": "display_data"
    }
   ],
   "source": [
    "import numpy as np\n",
    "import matplotlib.pyplot as plt\n",
    "\n",
    "num_sims = 4\n",
    "N        = 10000\n",
    "\n",
    "y_init = 10\n",
    "t_init = 0\n",
    "t_end  = 9\n",
    "\n",
    "c_theta = 0.1\n",
    "c_mu    = 1.5\n",
    "c_sigma = 0.01\n",
    "\n",
    "def mu(y, t): \n",
    "    return c_theta * (c_mu - y)\n",
    "        \n",
    "def sigma(y, t): \n",
    "    return c_sigma\n",
    "\n",
    "dt   = float(t_end - t_init) / N\n",
    "dW   = lambda dt: np.random.normal(loc = 0.0, scale = np.sqrt(dt))\n",
    "\n",
    "t    = np.arange(t_init, t_end, dt)\n",
    "y    = np.zeros(N)\n",
    "y[0] = y_init\n",
    "\n",
    "for i_sim in range(num_sims):\n",
    "    for i in range(1, t.size):\n",
    "        a = mu(y[i-1], (i-1) * dt)\n",
    "        b = sigma(y[i-1], (i-1) * dt)\n",
    "        y[i] = y[i-1] + a * dt + b * dW(dt)\n",
    "    plt.plot(t, y)\n",
    "\n",
    "plt.show()\n"
   ]
  },
  {
   "cell_type": "code",
   "execution_count": 3,
   "metadata": {
    "collapsed": false
   },
   "outputs": [
    {
     "data": {
      "text/plain": [
       "2.5208845198207062"
      ]
     },
     "execution_count": 3,
     "metadata": {},
     "output_type": "execute_result"
    }
   ],
   "source": [
    "(1/np.sqrt(2*3.1415))*np.sqrt(4.1735)*np.exp(-24.55995364/8.347)+4.9558*0.5"
   ]
  },
  {
   "cell_type": "code",
   "execution_count": 1,
   "metadata": {
    "collapsed": false
   },
   "outputs": [
    {
     "name": "stdout",
     "output_type": "stream",
     "text": [
      "(x-k)+に平均μ、分散σ２に従う正規分布を用いて数値を計算する\n",
      "\n",
      "(σ/sqrt(2π))*e^((-(k-μ)^2)/2σ^2)+(μ-k)*1/2*Erfc(-x/sqrt(2))\n",
      "\n",
      "E[Yt]=e^(-θt)*y+μ(1-e^(-θt))\n",
      "\n",
      "V[Yt]=(1/2θ)*(1-e^(-2θt))\n",
      "\n",
      "y=10 t=9 θ=0.1 μ=1.5 σ=0.01 K=0 x=0\n"
     ]
    }
   ],
   "source": [
    "print('(x-k)+に平均μ、分散σ２に従う正規分布を用いて数値を計算する')\n",
    "print('')\n",
    "print('(σ/sqrt(2π))*e^((-(k-μ)^2)/2σ^2)+(μ-k)*1/2*Erfc(-x/sqrt(2))')\n",
    "print('')\n",
    "print('E[Yt]=e^(-θt)*y+μ(1-e^(-θt))')\n",
    "print('')\n",
    "print('V[Yt]=(1/2θ)*(1-e^(-2θt))')\n",
    "print('')\n",
    "print('y=10 t=9 θ=0.1 μ=1.5 σ=0.01 K=0 x=0')"
   ]
  },
  {
   "cell_type": "code",
   "execution_count": 4,
   "metadata": {
    "collapsed": false
   },
   "outputs": [
    {
     "name": "stdout",
     "output_type": "stream",
     "text": [
      "E[Xt]について\n"
     ]
    },
    {
     "data": {
      "text/plain": [
       "4.9558421077950925"
      ]
     },
     "execution_count": 4,
     "metadata": {},
     "output_type": "execute_result"
    }
   ],
   "source": [
    "print('E[Xt]について')\n",
    "np.exp(-0.9)*10+1.5*(1-np.exp(-0.9))"
   ]
  },
  {
   "cell_type": "code",
   "execution_count": 5,
   "metadata": {
    "collapsed": false
   },
   "outputs": [
    {
     "name": "stdout",
     "output_type": "stream",
     "text": [
      "V[Yt]について\n"
     ]
    },
    {
     "data": {
      "text/plain": [
       "4.1735055588920673"
      ]
     },
     "execution_count": 5,
     "metadata": {},
     "output_type": "execute_result"
    }
   ],
   "source": [
    "print('V[Yt]について')\n",
    "(1/0.2)*(1-np.exp(-2*0.1*9))"
   ]
  },
  {
   "cell_type": "code",
   "execution_count": 9,
   "metadata": {
    "collapsed": false
   },
   "outputs": [
    {
     "name": "stdout",
     "output_type": "stream",
     "text": [
      "(σ/sqrt(2π))*e^((-(k-μ)^2)/2σ^2)+(μ-k)*1/2*Erfc(-x/sqrt(2))を計算する\n",
      "つまり(sqrt(V[Yt])/sqrt(2π))*e^((-(k-E[Xt])^2)/2*V[Yt])+(E[Xt]-k)*1/2*Erfc(-x/sqrt(2))\n",
      "ここでいうxは(-k＋μ)/σ\n"
     ]
    },
    {
     "data": {
      "text/plain": [
       "4.9558421077950925"
      ]
     },
     "execution_count": 9,
     "metadata": {},
     "output_type": "execute_result"
    }
   ],
   "source": [
    "print('(σ/sqrt(2π))*e^((-(k-μ)^2)/2σ^2)+(μ-k)*1/2*Erfc(-x/sqrt(2))を計算する')\n",
    "print('つまり(sqrt(V[Yt])/sqrt(2π))*e^((-(k-E[Xt])^2)/2*V[Yt])+(E[Xt]-k)*1/2*Erfc(-x/sqrt(2))')\n",
    "print('ここでいうxは(-k＋μ)/σ')\n",
    "1/(np.sqrt(2*3.14159265359))*np.sqrt(4.1735055588920673)*np.exp(-(4.9558421077950925*4.9558421077950925)/2*4.1735055588920673)+4.9558421077950925*1/2*2"
   ]
  },
  {
   "cell_type": "code",
   "execution_count": 6,
   "metadata": {
    "collapsed": false
   },
   "outputs": [
    {
     "data": {
      "text/plain": [
       "-10.606601717798211"
      ]
     },
     "execution_count": 6,
     "metadata": {},
     "output_type": "execute_result"
    }
   ],
   "source": [
    "(-15)/np.sqrt(2)"
   ]
  },
  {
   "cell_type": "code",
   "execution_count": 10,
   "metadata": {
    "collapsed": false
   },
   "outputs": [
    {
     "ename": "NameError",
     "evalue": "name 'math' is not defined",
     "output_type": "error",
     "traceback": [
      "\u001b[0;31m---------------------------------------------------------------------------\u001b[0m",
      "\u001b[0;31mNameError\u001b[0m                                 Traceback (most recent call last)",
      "\u001b[0;32m<ipython-input-10-544d3d087b9a>\u001b[0m in \u001b[0;36m<module>\u001b[0;34m()\u001b[0m\n\u001b[0;32m----> 1\u001b[0;31m \u001b[0mmath\u001b[0m\u001b[0;34m.\u001b[0m\u001b[0merfc\u001b[0m\u001b[0;34m(\u001b[0m\u001b[0;34m-\u001b[0m\u001b[0;36m10\u001b[0m\u001b[0;34m)\u001b[0m\u001b[0;34m\u001b[0m\u001b[0m\n\u001b[0m",
      "\u001b[0;31mNameError\u001b[0m: name 'math' is not defined"
     ]
    }
   ],
   "source": [
    "math.erfc(-10)"
   ]
  },
  {
   "cell_type": "code",
   "execution_count": null,
   "metadata": {
    "collapsed": true
   },
   "outputs": [],
   "source": []
  }
 ],
 "metadata": {
  "anaconda-cloud": {},
  "kernelspec": {
   "display_name": "Python [conda root]",
   "language": "python",
   "name": "conda-root-py"
  },
  "language_info": {
   "codemirror_mode": {
    "name": "ipython",
    "version": 3
   },
   "file_extension": ".py",
   "mimetype": "text/x-python",
   "name": "python",
   "nbconvert_exporter": "python",
   "pygments_lexer": "ipython3",
   "version": "3.5.2"
  }
 },
 "nbformat": 4,
 "nbformat_minor": 1
}
